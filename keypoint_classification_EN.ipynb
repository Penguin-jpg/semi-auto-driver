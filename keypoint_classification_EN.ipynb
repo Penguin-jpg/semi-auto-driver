{
  "cells": [
    {
      "cell_type": "code",
      "execution_count": 1,
      "metadata": {
        "id": "igMyGnjE9hEp"
      },
      "outputs": [],
      "source": [
        "# code is adapted from https://github.com/kinivi/hand-gesture-recognition-mediapipe\n",
        "import csv\n",
        "\n",
        "import numpy as np\n",
        "import tensorflow as tf\n",
        "from sklearn.model_selection import train_test_split\n",
        "\n",
        "RANDOM_SEED = 42"
      ]
    },
    {
      "cell_type": "markdown",
      "metadata": {
        "id": "t2HDvhIu9hEr"
      },
      "source": [
        "# Specify each path"
      ]
    },
    {
      "cell_type": "code",
      "execution_count": 2,
      "metadata": {
        "id": "9NvZP2Zn9hEy"
      },
      "outputs": [],
      "source": [
        "dataset = 'model/keypoint_classifier/keypoint.csv'\n",
        "model_save_path = 'model/keypoint_classifier/keypoint_classifier.hdf5'\n",
        "tflite_save_path = 'model/keypoint_classifier/keypoint_classifier.tflite'"
      ]
    },
    {
      "cell_type": "markdown",
      "metadata": {
        "id": "s5oMH7x19hEz"
      },
      "source": [
        "# Set number of classes"
      ]
    },
    {
      "cell_type": "code",
      "execution_count": 3,
      "metadata": {
        "id": "du4kodXL9hEz"
      },
      "outputs": [],
      "source": [
        "NUM_CLASSES = 6"
      ]
    },
    {
      "cell_type": "markdown",
      "metadata": {
        "id": "XjnL0uso9hEz"
      },
      "source": [
        "# Dataset reading"
      ]
    },
    {
      "cell_type": "code",
      "execution_count": 4,
      "metadata": {
        "id": "QT5ZqtEz9hE0"
      },
      "outputs": [],
      "source": [
        "X_dataset = np.loadtxt(dataset, delimiter=',', dtype='float32', usecols=list(range(1, (21 * 2) + 1)))"
      ]
    },
    {
      "cell_type": "code",
      "execution_count": 5,
      "metadata": {
        "id": "QmoKFsp49hE0"
      },
      "outputs": [],
      "source": [
        "y_dataset = np.loadtxt(dataset, delimiter=',', dtype='int32', usecols=(0))"
      ]
    },
    {
      "cell_type": "code",
      "execution_count": 6,
      "metadata": {
        "id": "xQU7JTZ_9hE0"
      },
      "outputs": [],
      "source": [
        "X_train, X_test, y_train, y_test = train_test_split(X_dataset, y_dataset, train_size=0.75, random_state=RANDOM_SEED)"
      ]
    },
    {
      "cell_type": "markdown",
      "metadata": {
        "id": "mxK_lETT9hE0"
      },
      "source": [
        "# Model building"
      ]
    },
    {
      "cell_type": "code",
      "execution_count": 7,
      "metadata": {
        "id": "vHBmUf1t9hE1"
      },
      "outputs": [],
      "source": [
        "model = tf.keras.models.Sequential([\n",
        "    tf.keras.layers.Input((21 * 2, )),\n",
        "    tf.keras.layers.Dropout(0.2),\n",
        "    tf.keras.layers.Dense(20, activation='relu'),\n",
        "    tf.keras.layers.Dropout(0.4),\n",
        "    tf.keras.layers.Dense(10, activation='relu'),\n",
        "    tf.keras.layers.Dense(NUM_CLASSES, activation='softmax')\n",
        "])"
      ]
    },
    {
      "cell_type": "code",
      "execution_count": 8,
      "metadata": {
        "colab": {
          "base_uri": "https://localhost:8080/"
        },
        "id": "ypqky9tc9hE1",
        "outputId": "5db082bb-30e3-4110-bf63-a1ee777ecd46"
      },
      "outputs": [
        {
          "name": "stdout",
          "output_type": "stream",
          "text": [
            "Model: \"sequential\"\n",
            "_________________________________________________________________\n",
            " Layer (type)                Output Shape              Param #   \n",
            "=================================================================\n",
            " dropout (Dropout)           (None, 42)                0         \n",
            "                                                                 \n",
            " dense (Dense)               (None, 20)                860       \n",
            "                                                                 \n",
            " dropout_1 (Dropout)         (None, 20)                0         \n",
            "                                                                 \n",
            " dense_1 (Dense)             (None, 10)                210       \n",
            "                                                                 \n",
            " dense_2 (Dense)             (None, 6)                 66        \n",
            "                                                                 \n",
            "=================================================================\n",
            "Total params: 1,136\n",
            "Trainable params: 1,136\n",
            "Non-trainable params: 0\n",
            "_________________________________________________________________\n"
          ]
        }
      ],
      "source": [
        "model.summary()  # tf.keras.utils.plot_model(model, show_shapes=True)"
      ]
    },
    {
      "cell_type": "code",
      "execution_count": 9,
      "metadata": {
        "id": "MbMjOflQ9hE1"
      },
      "outputs": [],
      "source": [
        "# Model checkpoint callback\n",
        "cp_callback = tf.keras.callbacks.ModelCheckpoint(\n",
        "    model_save_path, verbose=1, save_weights_only=False)\n",
        "# Callback for early stopping\n",
        "es_callback = tf.keras.callbacks.EarlyStopping(patience=20, verbose=1)"
      ]
    },
    {
      "cell_type": "code",
      "execution_count": 10,
      "metadata": {
        "id": "c3Dac0M_9hE2"
      },
      "outputs": [],
      "source": [
        "# Model compilation\n",
        "model.compile(\n",
        "    optimizer='adam',\n",
        "    loss='sparse_categorical_crossentropy',\n",
        "    metrics=['accuracy']\n",
        ")"
      ]
    },
    {
      "cell_type": "markdown",
      "metadata": {
        "id": "7XI0j1Iu9hE2"
      },
      "source": [
        "# Model training"
      ]
    },
    {
      "cell_type": "code",
      "execution_count": 11,
      "metadata": {
        "colab": {
          "base_uri": "https://localhost:8080/"
        },
        "id": "WirBl-JE9hE3",
        "outputId": "71b30ca2-8294-4d9d-8aa2-800d90d399de",
        "scrolled": true
      },
      "outputs": [
        {
          "name": "stdout",
          "output_type": "stream",
          "text": [
            "Epoch 1/1000\n",
            "22/38 [================>.............] - ETA: 0s - loss: 1.7547 - accuracy: 0.2283 \n",
            "Epoch 1: saving model to model/keypoint_classifier\\keypoint_classifier.hdf5\n",
            "38/38 [==============================] - 1s 11ms/step - loss: 1.7347 - accuracy: 0.2415 - val_loss: 1.6611 - val_accuracy: 0.2886\n",
            "Epoch 2/1000\n",
            "23/38 [=================>............] - ETA: 0s - loss: 1.6529 - accuracy: 0.3071\n",
            "Epoch 2: saving model to model/keypoint_classifier\\keypoint_classifier.hdf5\n",
            "38/38 [==============================] - 0s 5ms/step - loss: 1.6299 - accuracy: 0.3168 - val_loss: 1.5286 - val_accuracy: 0.4426\n",
            "Epoch 3/1000\n",
            "22/38 [================>.............] - ETA: 0s - loss: 1.5474 - accuracy: 0.3675\n",
            "Epoch 3: saving model to model/keypoint_classifier\\keypoint_classifier.hdf5\n",
            "38/38 [==============================] - 0s 5ms/step - loss: 1.5329 - accuracy: 0.3658 - val_loss: 1.3855 - val_accuracy: 0.4780\n",
            "Epoch 4/1000\n",
            "25/38 [==================>...........] - ETA: 0s - loss: 1.4462 - accuracy: 0.4078\n",
            "Epoch 4: saving model to model/keypoint_classifier\\keypoint_classifier.hdf5\n",
            "38/38 [==============================] - 0s 4ms/step - loss: 1.4294 - accuracy: 0.4113 - val_loss: 1.2555 - val_accuracy: 0.5034\n",
            "Epoch 5/1000\n",
            "22/38 [================>.............] - ETA: 0s - loss: 1.3649 - accuracy: 0.4176\n",
            "Epoch 5: saving model to model/keypoint_classifier\\keypoint_classifier.hdf5\n",
            "38/38 [==============================] - 0s 4ms/step - loss: 1.3471 - accuracy: 0.4275 - val_loss: 1.1558 - val_accuracy: 0.5444\n",
            "Epoch 6/1000\n",
            "24/38 [=================>............] - ETA: 0s - loss: 1.2915 - accuracy: 0.4424\n",
            "Epoch 6: saving model to model/keypoint_classifier\\keypoint_classifier.hdf5\n",
            "38/38 [==============================] - 0s 4ms/step - loss: 1.2836 - accuracy: 0.4494 - val_loss: 1.0799 - val_accuracy: 0.5698\n",
            "Epoch 7/1000\n",
            "23/38 [=================>............] - ETA: 0s - loss: 1.2204 - accuracy: 0.4881\n",
            "Epoch 7: saving model to model/keypoint_classifier\\keypoint_classifier.hdf5\n",
            "38/38 [==============================] - 0s 4ms/step - loss: 1.2247 - accuracy: 0.4788 - val_loss: 1.0159 - val_accuracy: 0.6778\n",
            "Epoch 8/1000\n",
            "21/38 [===============>..............] - ETA: 0s - loss: 1.1582 - accuracy: 0.5283\n",
            "Epoch 8: saving model to model/keypoint_classifier\\keypoint_classifier.hdf5\n",
            "38/38 [==============================] - 0s 4ms/step - loss: 1.1558 - accuracy: 0.5258 - val_loss: 0.9485 - val_accuracy: 0.6934\n",
            "Epoch 9/1000\n",
            "23/38 [=================>............] - ETA: 0s - loss: 1.1230 - accuracy: 0.5493\n",
            "Epoch 9: saving model to model/keypoint_classifier\\keypoint_classifier.hdf5\n",
            "38/38 [==============================] - 0s 4ms/step - loss: 1.1145 - accuracy: 0.5543 - val_loss: 0.8974 - val_accuracy: 0.7238\n",
            "Epoch 10/1000\n",
            "23/38 [=================>............] - ETA: 0s - loss: 1.0728 - accuracy: 0.5696\n",
            "Epoch 10: saving model to model/keypoint_classifier\\keypoint_classifier.hdf5\n",
            "38/38 [==============================] - 0s 4ms/step - loss: 1.0716 - accuracy: 0.5729 - val_loss: 0.8470 - val_accuracy: 0.7498\n",
            "Epoch 11/1000\n",
            "23/38 [=================>............] - ETA: 0s - loss: 1.0318 - accuracy: 0.5849\n",
            "Epoch 11: saving model to model/keypoint_classifier\\keypoint_classifier.hdf5\n",
            "38/38 [==============================] - 0s 4ms/step - loss: 1.0290 - accuracy: 0.5862 - val_loss: 0.8007 - val_accuracy: 0.7641\n",
            "Epoch 12/1000\n",
            "22/38 [================>.............] - ETA: 0s - loss: 0.9876 - accuracy: 0.6140\n",
            "Epoch 12: saving model to model/keypoint_classifier\\keypoint_classifier.hdf5\n",
            "38/38 [==============================] - 0s 4ms/step - loss: 0.9928 - accuracy: 0.6073 - val_loss: 0.7624 - val_accuracy: 0.7815\n",
            "Epoch 13/1000\n",
            "21/38 [===============>..............] - ETA: 0s - loss: 0.9751 - accuracy: 0.6060\n",
            "Epoch 13: saving model to model/keypoint_classifier\\keypoint_classifier.hdf5\n",
            "38/38 [==============================] - 0s 4ms/step - loss: 0.9618 - accuracy: 0.6166 - val_loss: 0.7219 - val_accuracy: 0.7921\n",
            "Epoch 14/1000\n",
            "22/38 [================>.............] - ETA: 0s - loss: 0.9385 - accuracy: 0.6396\n",
            "Epoch 14: saving model to model/keypoint_classifier\\keypoint_classifier.hdf5\n",
            "38/38 [==============================] - 0s 4ms/step - loss: 0.9372 - accuracy: 0.6352 - val_loss: 0.6899 - val_accuracy: 0.7952\n",
            "Epoch 15/1000\n",
            "22/38 [================>.............] - ETA: 0s - loss: 0.8895 - accuracy: 0.6623\n",
            "Epoch 15: saving model to model/keypoint_classifier\\keypoint_classifier.hdf5\n",
            "38/38 [==============================] - 0s 4ms/step - loss: 0.8974 - accuracy: 0.6516 - val_loss: 0.6577 - val_accuracy: 0.8076\n",
            "Epoch 16/1000\n",
            "25/38 [==================>...........] - ETA: 0s - loss: 0.8924 - accuracy: 0.6409\n",
            "Epoch 16: saving model to model/keypoint_classifier\\keypoint_classifier.hdf5\n",
            "38/38 [==============================] - 0s 4ms/step - loss: 0.8903 - accuracy: 0.6462 - val_loss: 0.6339 - val_accuracy: 0.8156\n",
            "Epoch 17/1000\n",
            "26/38 [===================>..........] - ETA: 0s - loss: 0.8701 - accuracy: 0.6532\n",
            "Epoch 17: saving model to model/keypoint_classifier\\keypoint_classifier.hdf5\n",
            "38/38 [==============================] - 0s 3ms/step - loss: 0.8628 - accuracy: 0.6576 - val_loss: 0.6121 - val_accuracy: 0.8194\n",
            "Epoch 18/1000\n",
            "24/38 [=================>............] - ETA: 0s - loss: 0.8658 - accuracy: 0.6693\n",
            "Epoch 18: saving model to model/keypoint_classifier\\keypoint_classifier.hdf5\n",
            "38/38 [==============================] - 0s 4ms/step - loss: 0.8591 - accuracy: 0.6669 - val_loss: 0.5836 - val_accuracy: 0.8349\n",
            "Epoch 19/1000\n",
            "23/38 [=================>............] - ETA: 0s - loss: 0.8242 - accuracy: 0.6797\n",
            "Epoch 19: saving model to model/keypoint_classifier\\keypoint_classifier.hdf5\n",
            "38/38 [==============================] - 0s 4ms/step - loss: 0.8322 - accuracy: 0.6762 - val_loss: 0.5772 - val_accuracy: 0.8312\n",
            "Epoch 20/1000\n",
            "23/38 [=================>............] - ETA: 0s - loss: 0.8088 - accuracy: 0.6885\n",
            "Epoch 20: saving model to model/keypoint_classifier\\keypoint_classifier.hdf5\n",
            "38/38 [==============================] - 0s 4ms/step - loss: 0.8172 - accuracy: 0.6857 - val_loss: 0.5612 - val_accuracy: 0.8336\n",
            "Epoch 21/1000\n",
            "22/38 [================>.............] - ETA: 0s - loss: 0.8109 - accuracy: 0.6946\n",
            "Epoch 21: saving model to model/keypoint_classifier\\keypoint_classifier.hdf5\n",
            "38/38 [==============================] - 0s 4ms/step - loss: 0.8131 - accuracy: 0.6944 - val_loss: 0.5419 - val_accuracy: 0.8386\n",
            "Epoch 22/1000\n",
            "22/38 [================>.............] - ETA: 0s - loss: 0.7981 - accuracy: 0.6935\n",
            "Epoch 22: saving model to model/keypoint_classifier\\keypoint_classifier.hdf5\n",
            "38/38 [==============================] - 0s 4ms/step - loss: 0.7928 - accuracy: 0.6960 - val_loss: 0.5264 - val_accuracy: 0.8523\n",
            "Epoch 23/1000\n",
            "24/38 [=================>............] - ETA: 0s - loss: 0.7969 - accuracy: 0.6888\n",
            "Epoch 23: saving model to model/keypoint_classifier\\keypoint_classifier.hdf5\n",
            "38/38 [==============================] - 0s 4ms/step - loss: 0.7827 - accuracy: 0.6956 - val_loss: 0.5081 - val_accuracy: 0.8585\n",
            "Epoch 24/1000\n",
            "26/38 [===================>..........] - ETA: 0s - loss: 0.7715 - accuracy: 0.6959\n",
            "Epoch 24: saving model to model/keypoint_classifier\\keypoint_classifier.hdf5\n",
            "38/38 [==============================] - 0s 3ms/step - loss: 0.7663 - accuracy: 0.7027 - val_loss: 0.5058 - val_accuracy: 0.8554\n",
            "Epoch 25/1000\n",
            "23/38 [=================>............] - ETA: 0s - loss: 0.7670 - accuracy: 0.7106\n",
            "Epoch 25: saving model to model/keypoint_classifier\\keypoint_classifier.hdf5\n",
            "38/38 [==============================] - 0s 4ms/step - loss: 0.7726 - accuracy: 0.7020 - val_loss: 0.4900 - val_accuracy: 0.8678\n",
            "Epoch 26/1000\n",
            "25/38 [==================>...........] - ETA: 0s - loss: 0.7344 - accuracy: 0.7206\n",
            "Epoch 26: saving model to model/keypoint_classifier\\keypoint_classifier.hdf5\n",
            "38/38 [==============================] - 0s 4ms/step - loss: 0.7424 - accuracy: 0.7155 - val_loss: 0.4830 - val_accuracy: 0.8653\n",
            "Epoch 27/1000\n",
            "25/38 [==================>...........] - ETA: 0s - loss: 0.7668 - accuracy: 0.7000\n",
            "Epoch 27: saving model to model/keypoint_classifier\\keypoint_classifier.hdf5\n",
            "38/38 [==============================] - 0s 4ms/step - loss: 0.7564 - accuracy: 0.7072 - val_loss: 0.4791 - val_accuracy: 0.8727\n",
            "Epoch 28/1000\n",
            "23/38 [=================>............] - ETA: 0s - loss: 0.7339 - accuracy: 0.7276\n",
            "Epoch 28: saving model to model/keypoint_classifier\\keypoint_classifier.hdf5\n",
            "38/38 [==============================] - 0s 4ms/step - loss: 0.7333 - accuracy: 0.7211 - val_loss: 0.4577 - val_accuracy: 0.8734\n",
            "Epoch 29/1000\n",
            "23/38 [=================>............] - ETA: 0s - loss: 0.7489 - accuracy: 0.7167\n",
            "Epoch 29: saving model to model/keypoint_classifier\\keypoint_classifier.hdf5\n",
            "38/38 [==============================] - 0s 4ms/step - loss: 0.7407 - accuracy: 0.7192 - val_loss: 0.4470 - val_accuracy: 0.8777\n",
            "Epoch 30/1000\n",
            "25/38 [==================>...........] - ETA: 0s - loss: 0.7329 - accuracy: 0.7237\n",
            "Epoch 30: saving model to model/keypoint_classifier\\keypoint_classifier.hdf5\n",
            "38/38 [==============================] - 0s 4ms/step - loss: 0.7328 - accuracy: 0.7223 - val_loss: 0.4499 - val_accuracy: 0.8777\n",
            "Epoch 31/1000\n",
            "23/38 [=================>............] - ETA: 0s - loss: 0.7198 - accuracy: 0.7289\n",
            "Epoch 31: saving model to model/keypoint_classifier\\keypoint_classifier.hdf5\n",
            "38/38 [==============================] - 0s 4ms/step - loss: 0.7217 - accuracy: 0.7267 - val_loss: 0.4438 - val_accuracy: 0.8783\n",
            "Epoch 32/1000\n",
            "23/38 [=================>............] - ETA: 0s - loss: 0.6718 - accuracy: 0.7497\n",
            "Epoch 32: saving model to model/keypoint_classifier\\keypoint_classifier.hdf5\n",
            "38/38 [==============================] - 0s 4ms/step - loss: 0.6900 - accuracy: 0.7403 - val_loss: 0.4281 - val_accuracy: 0.8833\n",
            "Epoch 33/1000\n",
            "23/38 [=================>............] - ETA: 0s - loss: 0.7067 - accuracy: 0.7368\n",
            "Epoch 33: saving model to model/keypoint_classifier\\keypoint_classifier.hdf5\n",
            "38/38 [==============================] - 0s 4ms/step - loss: 0.7148 - accuracy: 0.7281 - val_loss: 0.4220 - val_accuracy: 0.8895\n",
            "Epoch 34/1000\n",
            "24/38 [=================>............] - ETA: 0s - loss: 0.7169 - accuracy: 0.7253\n",
            "Epoch 34: saving model to model/keypoint_classifier\\keypoint_classifier.hdf5\n",
            "38/38 [==============================] - 0s 4ms/step - loss: 0.7045 - accuracy: 0.7308 - val_loss: 0.4205 - val_accuracy: 0.8864\n",
            "Epoch 35/1000\n",
            "25/38 [==================>...........] - ETA: 0s - loss: 0.6914 - accuracy: 0.7450\n",
            "Epoch 35: saving model to model/keypoint_classifier\\keypoint_classifier.hdf5\n",
            "38/38 [==============================] - 0s 4ms/step - loss: 0.6948 - accuracy: 0.7393 - val_loss: 0.4105 - val_accuracy: 0.8895\n",
            "Epoch 36/1000\n",
            "23/38 [=================>............] - ETA: 0s - loss: 0.7230 - accuracy: 0.7293\n",
            "Epoch 36: saving model to model/keypoint_classifier\\keypoint_classifier.hdf5\n",
            "38/38 [==============================] - 0s 4ms/step - loss: 0.7060 - accuracy: 0.7308 - val_loss: 0.4117 - val_accuracy: 0.8870\n",
            "Epoch 37/1000\n",
            "25/38 [==================>...........] - ETA: 0s - loss: 0.7118 - accuracy: 0.7341\n",
            "Epoch 37: saving model to model/keypoint_classifier\\keypoint_classifier.hdf5\n",
            "38/38 [==============================] - 0s 4ms/step - loss: 0.6911 - accuracy: 0.7403 - val_loss: 0.3988 - val_accuracy: 0.8883\n",
            "Epoch 38/1000\n",
            "23/38 [=================>............] - ETA: 0s - loss: 0.6881 - accuracy: 0.7395\n",
            "Epoch 38: saving model to model/keypoint_classifier\\keypoint_classifier.hdf5\n",
            "38/38 [==============================] - 0s 4ms/step - loss: 0.6800 - accuracy: 0.7420 - val_loss: 0.3940 - val_accuracy: 0.8957\n",
            "Epoch 39/1000\n",
            "23/38 [=================>............] - ETA: 0s - loss: 0.7091 - accuracy: 0.7313\n",
            "Epoch 39: saving model to model/keypoint_classifier\\keypoint_classifier.hdf5\n",
            "38/38 [==============================] - 0s 6ms/step - loss: 0.6858 - accuracy: 0.7422 - val_loss: 0.3897 - val_accuracy: 0.8945\n",
            "Epoch 40/1000\n",
            "25/38 [==================>...........] - ETA: 0s - loss: 0.6653 - accuracy: 0.7550\n",
            "Epoch 40: saving model to model/keypoint_classifier\\keypoint_classifier.hdf5\n",
            "38/38 [==============================] - 0s 4ms/step - loss: 0.6764 - accuracy: 0.7505 - val_loss: 0.3856 - val_accuracy: 0.8982\n",
            "Epoch 41/1000\n",
            "23/38 [=================>............] - ETA: 0s - loss: 0.6766 - accuracy: 0.7520\n",
            "Epoch 41: saving model to model/keypoint_classifier\\keypoint_classifier.hdf5\n",
            "38/38 [==============================] - 0s 4ms/step - loss: 0.6731 - accuracy: 0.7527 - val_loss: 0.3796 - val_accuracy: 0.8951\n",
            "Epoch 42/1000\n",
            "24/38 [=================>............] - ETA: 0s - loss: 0.6858 - accuracy: 0.7367\n",
            "Epoch 42: saving model to model/keypoint_classifier\\keypoint_classifier.hdf5\n",
            "38/38 [==============================] - 0s 4ms/step - loss: 0.6672 - accuracy: 0.7467 - val_loss: 0.3727 - val_accuracy: 0.8970\n",
            "Epoch 43/1000\n",
            "24/38 [=================>............] - ETA: 0s - loss: 0.6597 - accuracy: 0.7513\n",
            "Epoch 43: saving model to model/keypoint_classifier\\keypoint_classifier.hdf5\n",
            "38/38 [==============================] - 0s 4ms/step - loss: 0.6657 - accuracy: 0.7463 - val_loss: 0.3795 - val_accuracy: 0.8926\n",
            "Epoch 44/1000\n",
            "26/38 [===================>..........] - ETA: 0s - loss: 0.6651 - accuracy: 0.7467\n",
            "Epoch 44: saving model to model/keypoint_classifier\\keypoint_classifier.hdf5\n",
            "38/38 [==============================] - 0s 4ms/step - loss: 0.6562 - accuracy: 0.7492 - val_loss: 0.3690 - val_accuracy: 0.9056\n",
            "Epoch 45/1000\n",
            "23/38 [=================>............] - ETA: 0s - loss: 0.6625 - accuracy: 0.7480\n",
            "Epoch 45: saving model to model/keypoint_classifier\\keypoint_classifier.hdf5\n",
            "38/38 [==============================] - 0s 4ms/step - loss: 0.6553 - accuracy: 0.7519 - val_loss: 0.3687 - val_accuracy: 0.9038\n",
            "Epoch 46/1000\n",
            "24/38 [=================>............] - ETA: 0s - loss: 0.6429 - accuracy: 0.7663\n",
            "Epoch 46: saving model to model/keypoint_classifier\\keypoint_classifier.hdf5\n",
            "38/38 [==============================] - 0s 4ms/step - loss: 0.6404 - accuracy: 0.7664 - val_loss: 0.3590 - val_accuracy: 0.9075\n",
            "Epoch 47/1000\n",
            "25/38 [==================>...........] - ETA: 0s - loss: 0.6328 - accuracy: 0.7647\n",
            "Epoch 47: saving model to model/keypoint_classifier\\keypoint_classifier.hdf5\n",
            "38/38 [==============================] - 0s 4ms/step - loss: 0.6324 - accuracy: 0.7637 - val_loss: 0.3532 - val_accuracy: 0.9075\n",
            "Epoch 48/1000\n",
            "24/38 [=================>............] - ETA: 0s - loss: 0.6356 - accuracy: 0.7559\n",
            "Epoch 48: saving model to model/keypoint_classifier\\keypoint_classifier.hdf5\n",
            "38/38 [==============================] - 0s 4ms/step - loss: 0.6377 - accuracy: 0.7579 - val_loss: 0.3517 - val_accuracy: 0.9044\n",
            "Epoch 49/1000\n",
            "27/38 [====================>.........] - ETA: 0s - loss: 0.6276 - accuracy: 0.7659\n",
            "Epoch 49: saving model to model/keypoint_classifier\\keypoint_classifier.hdf5\n",
            "38/38 [==============================] - 0s 3ms/step - loss: 0.6298 - accuracy: 0.7664 - val_loss: 0.3538 - val_accuracy: 0.9013\n",
            "Epoch 50/1000\n",
            "23/38 [=================>............] - ETA: 0s - loss: 0.6523 - accuracy: 0.7514\n",
            "Epoch 50: saving model to model/keypoint_classifier\\keypoint_classifier.hdf5\n",
            "38/38 [==============================] - 0s 4ms/step - loss: 0.6427 - accuracy: 0.7550 - val_loss: 0.3409 - val_accuracy: 0.9156\n",
            "Epoch 51/1000\n",
            "25/38 [==================>...........] - ETA: 0s - loss: 0.6201 - accuracy: 0.7638\n",
            "Epoch 51: saving model to model/keypoint_classifier\\keypoint_classifier.hdf5\n",
            "38/38 [==============================] - 0s 3ms/step - loss: 0.6199 - accuracy: 0.7681 - val_loss: 0.3493 - val_accuracy: 0.9056\n",
            "Epoch 52/1000\n",
            "26/38 [===================>..........] - ETA: 0s - loss: 0.6250 - accuracy: 0.7671\n",
            "Epoch 52: saving model to model/keypoint_classifier\\keypoint_classifier.hdf5\n",
            "38/38 [==============================] - 0s 4ms/step - loss: 0.6301 - accuracy: 0.7649 - val_loss: 0.3371 - val_accuracy: 0.9143\n",
            "Epoch 53/1000\n",
            "22/38 [================>.............] - ETA: 0s - loss: 0.5998 - accuracy: 0.7745\n",
            "Epoch 53: saving model to model/keypoint_classifier\\keypoint_classifier.hdf5\n",
            "38/38 [==============================] - 0s 4ms/step - loss: 0.6089 - accuracy: 0.7755 - val_loss: 0.3280 - val_accuracy: 0.9162\n",
            "Epoch 54/1000\n",
            "24/38 [=================>............] - ETA: 0s - loss: 0.6394 - accuracy: 0.7666\n",
            "Epoch 54: saving model to model/keypoint_classifier\\keypoint_classifier.hdf5\n",
            "38/38 [==============================] - 0s 4ms/step - loss: 0.6336 - accuracy: 0.7668 - val_loss: 0.3281 - val_accuracy: 0.9218\n",
            "Epoch 55/1000\n",
            "22/38 [================>.............] - ETA: 0s - loss: 0.6266 - accuracy: 0.7607\n",
            "Epoch 55: saving model to model/keypoint_classifier\\keypoint_classifier.hdf5\n",
            "38/38 [==============================] - 0s 4ms/step - loss: 0.6248 - accuracy: 0.7649 - val_loss: 0.3318 - val_accuracy: 0.9125\n",
            "Epoch 56/1000\n",
            "24/38 [=================>............] - ETA: 0s - loss: 0.5983 - accuracy: 0.7757\n",
            "Epoch 56: saving model to model/keypoint_classifier\\keypoint_classifier.hdf5\n",
            "38/38 [==============================] - 0s 4ms/step - loss: 0.6001 - accuracy: 0.7763 - val_loss: 0.3150 - val_accuracy: 0.9311\n",
            "Epoch 57/1000\n",
            "24/38 [=================>............] - ETA: 0s - loss: 0.6205 - accuracy: 0.7744\n",
            "Epoch 57: saving model to model/keypoint_classifier\\keypoint_classifier.hdf5\n",
            "38/38 [==============================] - 0s 4ms/step - loss: 0.6152 - accuracy: 0.7757 - val_loss: 0.3165 - val_accuracy: 0.9280\n",
            "Epoch 58/1000\n",
            "24/38 [=================>............] - ETA: 0s - loss: 0.5887 - accuracy: 0.7848\n",
            "Epoch 58: saving model to model/keypoint_classifier\\keypoint_classifier.hdf5\n",
            "38/38 [==============================] - 0s 4ms/step - loss: 0.6029 - accuracy: 0.7788 - val_loss: 0.3135 - val_accuracy: 0.9261\n",
            "Epoch 59/1000\n",
            "21/38 [===============>..............] - ETA: 0s - loss: 0.5777 - accuracy: 0.7887\n",
            "Epoch 59: saving model to model/keypoint_classifier\\keypoint_classifier.hdf5\n",
            "38/38 [==============================] - 0s 4ms/step - loss: 0.5951 - accuracy: 0.7776 - val_loss: 0.3146 - val_accuracy: 0.9243\n",
            "Epoch 60/1000\n",
            "26/38 [===================>..........] - ETA: 0s - loss: 0.5939 - accuracy: 0.7828\n",
            "Epoch 60: saving model to model/keypoint_classifier\\keypoint_classifier.hdf5\n",
            "38/38 [==============================] - 0s 3ms/step - loss: 0.6023 - accuracy: 0.7809 - val_loss: 0.3152 - val_accuracy: 0.9249\n",
            "Epoch 61/1000\n",
            "26/38 [===================>..........] - ETA: 0s - loss: 0.6098 - accuracy: 0.7734\n",
            "Epoch 61: saving model to model/keypoint_classifier\\keypoint_classifier.hdf5\n",
            "38/38 [==============================] - 0s 4ms/step - loss: 0.6134 - accuracy: 0.7720 - val_loss: 0.3055 - val_accuracy: 0.9292\n",
            "Epoch 62/1000\n",
            "25/38 [==================>...........] - ETA: 0s - loss: 0.5993 - accuracy: 0.7719\n",
            "Epoch 62: saving model to model/keypoint_classifier\\keypoint_classifier.hdf5\n",
            "38/38 [==============================] - 0s 4ms/step - loss: 0.6079 - accuracy: 0.7691 - val_loss: 0.3084 - val_accuracy: 0.9274\n",
            "Epoch 63/1000\n",
            "24/38 [=================>............] - ETA: 0s - loss: 0.5810 - accuracy: 0.7816\n",
            "Epoch 63: saving model to model/keypoint_classifier\\keypoint_classifier.hdf5\n",
            "38/38 [==============================] - 0s 4ms/step - loss: 0.5943 - accuracy: 0.7776 - val_loss: 0.3050 - val_accuracy: 0.9311\n",
            "Epoch 64/1000\n",
            "23/38 [=================>............] - ETA: 0s - loss: 0.5808 - accuracy: 0.7843\n",
            "Epoch 64: saving model to model/keypoint_classifier\\keypoint_classifier.hdf5\n",
            "38/38 [==============================] - 0s 4ms/step - loss: 0.5979 - accuracy: 0.7801 - val_loss: 0.3011 - val_accuracy: 0.9305\n",
            "Epoch 65/1000\n",
            "25/38 [==================>...........] - ETA: 0s - loss: 0.5933 - accuracy: 0.7812\n",
            "Epoch 65: saving model to model/keypoint_classifier\\keypoint_classifier.hdf5\n",
            "38/38 [==============================] - 0s 4ms/step - loss: 0.5882 - accuracy: 0.7840 - val_loss: 0.3122 - val_accuracy: 0.9230\n",
            "Epoch 66/1000\n",
            "19/38 [==============>...............] - ETA: 0s - loss: 0.6273 - accuracy: 0.7619\n",
            "Epoch 66: saving model to model/keypoint_classifier\\keypoint_classifier.hdf5\n",
            "38/38 [==============================] - 0s 5ms/step - loss: 0.6078 - accuracy: 0.7734 - val_loss: 0.3069 - val_accuracy: 0.9230\n",
            "Epoch 67/1000\n",
            "26/38 [===================>..........] - ETA: 0s - loss: 0.5777 - accuracy: 0.7864\n",
            "Epoch 67: saving model to model/keypoint_classifier\\keypoint_classifier.hdf5\n",
            "38/38 [==============================] - 0s 3ms/step - loss: 0.5913 - accuracy: 0.7801 - val_loss: 0.3003 - val_accuracy: 0.9323\n",
            "Epoch 68/1000\n",
            "25/38 [==================>...........] - ETA: 0s - loss: 0.5771 - accuracy: 0.7875\n",
            "Epoch 68: saving model to model/keypoint_classifier\\keypoint_classifier.hdf5\n",
            "38/38 [==============================] - 0s 4ms/step - loss: 0.5752 - accuracy: 0.7910 - val_loss: 0.2950 - val_accuracy: 0.9261\n",
            "Epoch 69/1000\n",
            "24/38 [=================>............] - ETA: 0s - loss: 0.5704 - accuracy: 0.7887\n",
            "Epoch 69: saving model to model/keypoint_classifier\\keypoint_classifier.hdf5\n",
            "38/38 [==============================] - 0s 4ms/step - loss: 0.5738 - accuracy: 0.7883 - val_loss: 0.3000 - val_accuracy: 0.9249\n",
            "Epoch 70/1000\n",
            "24/38 [=================>............] - ETA: 0s - loss: 0.5762 - accuracy: 0.7891\n",
            "Epoch 70: saving model to model/keypoint_classifier\\keypoint_classifier.hdf5\n",
            "38/38 [==============================] - 0s 4ms/step - loss: 0.5722 - accuracy: 0.7887 - val_loss: 0.2879 - val_accuracy: 0.9286\n",
            "Epoch 71/1000\n",
            "25/38 [==================>...........] - ETA: 0s - loss: 0.5915 - accuracy: 0.7869\n",
            "Epoch 71: saving model to model/keypoint_classifier\\keypoint_classifier.hdf5\n",
            "38/38 [==============================] - 0s 4ms/step - loss: 0.5859 - accuracy: 0.7939 - val_loss: 0.3003 - val_accuracy: 0.9261\n",
            "Epoch 72/1000\n",
            "24/38 [=================>............] - ETA: 0s - loss: 0.5810 - accuracy: 0.7949\n",
            "Epoch 72: saving model to model/keypoint_classifier\\keypoint_classifier.hdf5\n",
            "38/38 [==============================] - 0s 4ms/step - loss: 0.5835 - accuracy: 0.7904 - val_loss: 0.2921 - val_accuracy: 0.9342\n",
            "Epoch 73/1000\n",
            "25/38 [==================>...........] - ETA: 0s - loss: 0.5791 - accuracy: 0.7875\n",
            "Epoch 73: saving model to model/keypoint_classifier\\keypoint_classifier.hdf5\n",
            "38/38 [==============================] - 0s 4ms/step - loss: 0.5734 - accuracy: 0.7850 - val_loss: 0.2920 - val_accuracy: 0.9249\n",
            "Epoch 74/1000\n",
            "26/38 [===================>..........] - ETA: 0s - loss: 0.5806 - accuracy: 0.7888\n",
            "Epoch 74: saving model to model/keypoint_classifier\\keypoint_classifier.hdf5\n",
            "38/38 [==============================] - 0s 4ms/step - loss: 0.5703 - accuracy: 0.7960 - val_loss: 0.2860 - val_accuracy: 0.9311\n",
            "Epoch 75/1000\n",
            "23/38 [=================>............] - ETA: 0s - loss: 0.5643 - accuracy: 0.7965\n",
            "Epoch 75: saving model to model/keypoint_classifier\\keypoint_classifier.hdf5\n",
            "38/38 [==============================] - 0s 4ms/step - loss: 0.5647 - accuracy: 0.7952 - val_loss: 0.2888 - val_accuracy: 0.9311\n",
            "Epoch 76/1000\n",
            "24/38 [=================>............] - ETA: 0s - loss: 0.5650 - accuracy: 0.7904\n",
            "Epoch 76: saving model to model/keypoint_classifier\\keypoint_classifier.hdf5\n",
            "38/38 [==============================] - 0s 4ms/step - loss: 0.5629 - accuracy: 0.7918 - val_loss: 0.2882 - val_accuracy: 0.9311\n",
            "Epoch 77/1000\n",
            "23/38 [=================>............] - ETA: 0s - loss: 0.5632 - accuracy: 0.7942\n",
            "Epoch 77: saving model to model/keypoint_classifier\\keypoint_classifier.hdf5\n",
            "38/38 [==============================] - 0s 4ms/step - loss: 0.5754 - accuracy: 0.7910 - val_loss: 0.2896 - val_accuracy: 0.9292\n",
            "Epoch 78/1000\n",
            "26/38 [===================>..........] - ETA: 0s - loss: 0.5746 - accuracy: 0.7912\n",
            "Epoch 78: saving model to model/keypoint_classifier\\keypoint_classifier.hdf5\n",
            "38/38 [==============================] - 0s 4ms/step - loss: 0.5723 - accuracy: 0.7927 - val_loss: 0.2794 - val_accuracy: 0.9336\n",
            "Epoch 79/1000\n",
            "24/38 [=================>............] - ETA: 0s - loss: 0.5521 - accuracy: 0.8008\n",
            "Epoch 79: saving model to model/keypoint_classifier\\keypoint_classifier.hdf5\n",
            "38/38 [==============================] - 0s 4ms/step - loss: 0.5577 - accuracy: 0.7933 - val_loss: 0.2740 - val_accuracy: 0.9404\n",
            "Epoch 80/1000\n",
            "24/38 [=================>............] - ETA: 0s - loss: 0.5944 - accuracy: 0.7777\n",
            "Epoch 80: saving model to model/keypoint_classifier\\keypoint_classifier.hdf5\n",
            "38/38 [==============================] - 0s 4ms/step - loss: 0.5839 - accuracy: 0.7871 - val_loss: 0.2813 - val_accuracy: 0.9385\n",
            "Epoch 81/1000\n",
            "24/38 [=================>............] - ETA: 0s - loss: 0.5633 - accuracy: 0.7952\n",
            "Epoch 81: saving model to model/keypoint_classifier\\keypoint_classifier.hdf5\n",
            "38/38 [==============================] - 0s 4ms/step - loss: 0.5711 - accuracy: 0.7904 - val_loss: 0.2798 - val_accuracy: 0.9385\n",
            "Epoch 82/1000\n",
            "25/38 [==================>...........] - ETA: 0s - loss: 0.5651 - accuracy: 0.7862\n",
            "Epoch 82: saving model to model/keypoint_classifier\\keypoint_classifier.hdf5\n",
            "38/38 [==============================] - 0s 4ms/step - loss: 0.5660 - accuracy: 0.7916 - val_loss: 0.2852 - val_accuracy: 0.9311\n",
            "Epoch 83/1000\n",
            "26/38 [===================>..........] - ETA: 0s - loss: 0.5696 - accuracy: 0.7891\n",
            "Epoch 83: saving model to model/keypoint_classifier\\keypoint_classifier.hdf5\n",
            "38/38 [==============================] - 0s 4ms/step - loss: 0.5584 - accuracy: 0.7941 - val_loss: 0.2839 - val_accuracy: 0.9361\n",
            "Epoch 84/1000\n",
            "22/38 [================>.............] - ETA: 0s - loss: 0.5435 - accuracy: 0.8008\n",
            "Epoch 84: saving model to model/keypoint_classifier\\keypoint_classifier.hdf5\n",
            "38/38 [==============================] - 0s 4ms/step - loss: 0.5527 - accuracy: 0.8014 - val_loss: 0.2773 - val_accuracy: 0.9348\n",
            "Epoch 85/1000\n",
            "24/38 [=================>............] - ETA: 0s - loss: 0.5774 - accuracy: 0.7939\n",
            "Epoch 85: saving model to model/keypoint_classifier\\keypoint_classifier.hdf5\n",
            "38/38 [==============================] - 0s 4ms/step - loss: 0.5698 - accuracy: 0.7968 - val_loss: 0.2775 - val_accuracy: 0.9398\n",
            "Epoch 86/1000\n",
            "25/38 [==================>...........] - ETA: 0s - loss: 0.5522 - accuracy: 0.8094\n",
            "Epoch 86: saving model to model/keypoint_classifier\\keypoint_classifier.hdf5\n",
            "38/38 [==============================] - 0s 4ms/step - loss: 0.5568 - accuracy: 0.8070 - val_loss: 0.2818 - val_accuracy: 0.9274\n",
            "Epoch 87/1000\n",
            "25/38 [==================>...........] - ETA: 0s - loss: 0.5694 - accuracy: 0.7931\n",
            "Epoch 87: saving model to model/keypoint_classifier\\keypoint_classifier.hdf5\n",
            "38/38 [==============================] - 0s 4ms/step - loss: 0.5720 - accuracy: 0.7881 - val_loss: 0.2784 - val_accuracy: 0.9348\n",
            "Epoch 88/1000\n",
            "28/38 [=====================>........] - ETA: 0s - loss: 0.5498 - accuracy: 0.7955\n",
            "Epoch 88: saving model to model/keypoint_classifier\\keypoint_classifier.hdf5\n",
            "38/38 [==============================] - 0s 3ms/step - loss: 0.5498 - accuracy: 0.7956 - val_loss: 0.2743 - val_accuracy: 0.9361\n",
            "Epoch 89/1000\n",
            "24/38 [=================>............] - ETA: 0s - loss: 0.5551 - accuracy: 0.8008\n",
            "Epoch 89: saving model to model/keypoint_classifier\\keypoint_classifier.hdf5\n",
            "38/38 [==============================] - 0s 4ms/step - loss: 0.5519 - accuracy: 0.7966 - val_loss: 0.2711 - val_accuracy: 0.9367\n",
            "Epoch 90/1000\n",
            "20/38 [==============>...............] - ETA: 0s - loss: 0.5629 - accuracy: 0.7945\n",
            "Epoch 90: saving model to model/keypoint_classifier\\keypoint_classifier.hdf5\n",
            "38/38 [==============================] - 0s 4ms/step - loss: 0.5594 - accuracy: 0.7925 - val_loss: 0.2757 - val_accuracy: 0.9342\n",
            "Epoch 91/1000\n",
            "25/38 [==================>...........] - ETA: 0s - loss: 0.5456 - accuracy: 0.8059\n",
            "Epoch 91: saving model to model/keypoint_classifier\\keypoint_classifier.hdf5\n",
            "38/38 [==============================] - 0s 4ms/step - loss: 0.5418 - accuracy: 0.8047 - val_loss: 0.2746 - val_accuracy: 0.9348\n",
            "Epoch 92/1000\n",
            "25/38 [==================>...........] - ETA: 0s - loss: 0.5398 - accuracy: 0.8022\n",
            "Epoch 92: saving model to model/keypoint_classifier\\keypoint_classifier.hdf5\n",
            "38/38 [==============================] - 0s 4ms/step - loss: 0.5451 - accuracy: 0.7993 - val_loss: 0.2771 - val_accuracy: 0.9299\n",
            "Epoch 93/1000\n",
            "33/38 [=========================>....] - ETA: 0s - loss: 0.5526 - accuracy: 0.7997\n",
            "Epoch 93: saving model to model/keypoint_classifier\\keypoint_classifier.hdf5\n",
            "38/38 [==============================] - 0s 5ms/step - loss: 0.5575 - accuracy: 0.7978 - val_loss: 0.2755 - val_accuracy: 0.9305\n",
            "Epoch 94/1000\n",
            "25/38 [==================>...........] - ETA: 0s - loss: 0.5317 - accuracy: 0.8106\n",
            "Epoch 94: saving model to model/keypoint_classifier\\keypoint_classifier.hdf5\n",
            "38/38 [==============================] - 0s 4ms/step - loss: 0.5378 - accuracy: 0.8113 - val_loss: 0.2670 - val_accuracy: 0.9361\n",
            "Epoch 95/1000\n",
            "25/38 [==================>...........] - ETA: 0s - loss: 0.5637 - accuracy: 0.7916\n",
            "Epoch 95: saving model to model/keypoint_classifier\\keypoint_classifier.hdf5\n",
            "38/38 [==============================] - 0s 4ms/step - loss: 0.5508 - accuracy: 0.7991 - val_loss: 0.2676 - val_accuracy: 0.9354\n",
            "Epoch 96/1000\n",
            "33/38 [=========================>....] - ETA: 0s - loss: 0.5460 - accuracy: 0.8035\n",
            "Epoch 96: saving model to model/keypoint_classifier\\keypoint_classifier.hdf5\n",
            "38/38 [==============================] - 0s 5ms/step - loss: 0.5485 - accuracy: 0.8032 - val_loss: 0.2623 - val_accuracy: 0.9392\n",
            "Epoch 97/1000\n",
            "24/38 [=================>............] - ETA: 0s - loss: 0.5642 - accuracy: 0.7998\n",
            "Epoch 97: saving model to model/keypoint_classifier\\keypoint_classifier.hdf5\n",
            "38/38 [==============================] - 0s 4ms/step - loss: 0.5532 - accuracy: 0.8014 - val_loss: 0.2738 - val_accuracy: 0.9323\n",
            "Epoch 98/1000\n",
            "25/38 [==================>...........] - ETA: 0s - loss: 0.5406 - accuracy: 0.8097\n",
            "Epoch 98: saving model to model/keypoint_classifier\\keypoint_classifier.hdf5\n",
            "38/38 [==============================] - 0s 4ms/step - loss: 0.5394 - accuracy: 0.8053 - val_loss: 0.2696 - val_accuracy: 0.9342\n",
            "Epoch 99/1000\n",
            "26/38 [===================>..........] - ETA: 0s - loss: 0.5542 - accuracy: 0.7948\n",
            "Epoch 99: saving model to model/keypoint_classifier\\keypoint_classifier.hdf5\n",
            "38/38 [==============================] - 0s 4ms/step - loss: 0.5515 - accuracy: 0.7978 - val_loss: 0.2683 - val_accuracy: 0.9342\n",
            "Epoch 100/1000\n",
            "26/38 [===================>..........] - ETA: 0s - loss: 0.5411 - accuracy: 0.8059\n",
            "Epoch 100: saving model to model/keypoint_classifier\\keypoint_classifier.hdf5\n",
            "38/38 [==============================] - 0s 4ms/step - loss: 0.5464 - accuracy: 0.8020 - val_loss: 0.2666 - val_accuracy: 0.9398\n",
            "Epoch 101/1000\n",
            "25/38 [==================>...........] - ETA: 0s - loss: 0.5421 - accuracy: 0.8084\n",
            "Epoch 101: saving model to model/keypoint_classifier\\keypoint_classifier.hdf5\n",
            "38/38 [==============================] - 0s 4ms/step - loss: 0.5481 - accuracy: 0.8032 - val_loss: 0.2677 - val_accuracy: 0.9311\n",
            "Epoch 102/1000\n",
            "22/38 [================>.............] - ETA: 0s - loss: 0.5535 - accuracy: 0.8011\n",
            "Epoch 102: saving model to model/keypoint_classifier\\keypoint_classifier.hdf5\n",
            "38/38 [==============================] - 0s 4ms/step - loss: 0.5515 - accuracy: 0.8020 - val_loss: 0.2612 - val_accuracy: 0.9379\n",
            "Epoch 103/1000\n",
            "25/38 [==================>...........] - ETA: 0s - loss: 0.5513 - accuracy: 0.8009\n",
            "Epoch 103: saving model to model/keypoint_classifier\\keypoint_classifier.hdf5\n",
            "38/38 [==============================] - 0s 3ms/step - loss: 0.5441 - accuracy: 0.8026 - val_loss: 0.2572 - val_accuracy: 0.9392\n",
            "Epoch 104/1000\n",
            "25/38 [==================>...........] - ETA: 0s - loss: 0.5500 - accuracy: 0.8022\n",
            "Epoch 104: saving model to model/keypoint_classifier\\keypoint_classifier.hdf5\n",
            "38/38 [==============================] - 0s 4ms/step - loss: 0.5558 - accuracy: 0.8030 - val_loss: 0.2727 - val_accuracy: 0.9224\n",
            "Epoch 105/1000\n",
            "26/38 [===================>..........] - ETA: 0s - loss: 0.5282 - accuracy: 0.8047\n",
            "Epoch 105: saving model to model/keypoint_classifier\\keypoint_classifier.hdf5\n",
            "38/38 [==============================] - 0s 3ms/step - loss: 0.5328 - accuracy: 0.8030 - val_loss: 0.2517 - val_accuracy: 0.9410\n",
            "Epoch 106/1000\n",
            "23/38 [=================>............] - ETA: 0s - loss: 0.5657 - accuracy: 0.7989\n",
            "Epoch 106: saving model to model/keypoint_classifier\\keypoint_classifier.hdf5\n",
            "38/38 [==============================] - 0s 4ms/step - loss: 0.5540 - accuracy: 0.8043 - val_loss: 0.2604 - val_accuracy: 0.9410\n",
            "Epoch 107/1000\n",
            "27/38 [====================>.........] - ETA: 0s - loss: 0.5464 - accuracy: 0.7966\n",
            "Epoch 107: saving model to model/keypoint_classifier\\keypoint_classifier.hdf5\n",
            "38/38 [==============================] - 0s 4ms/step - loss: 0.5368 - accuracy: 0.8036 - val_loss: 0.2629 - val_accuracy: 0.9398\n",
            "Epoch 108/1000\n",
            "25/38 [==================>...........] - ETA: 0s - loss: 0.5450 - accuracy: 0.7966\n",
            "Epoch 108: saving model to model/keypoint_classifier\\keypoint_classifier.hdf5\n",
            "38/38 [==============================] - 0s 4ms/step - loss: 0.5389 - accuracy: 0.8026 - val_loss: 0.2623 - val_accuracy: 0.9398\n",
            "Epoch 109/1000\n",
            "26/38 [===================>..........] - ETA: 0s - loss: 0.5559 - accuracy: 0.7996\n",
            "Epoch 109: saving model to model/keypoint_classifier\\keypoint_classifier.hdf5\n",
            "38/38 [==============================] - 0s 3ms/step - loss: 0.5595 - accuracy: 0.7970 - val_loss: 0.2590 - val_accuracy: 0.9392\n",
            "Epoch 110/1000\n",
            "26/38 [===================>..........] - ETA: 0s - loss: 0.5429 - accuracy: 0.7999\n",
            "Epoch 110: saving model to model/keypoint_classifier\\keypoint_classifier.hdf5\n",
            "38/38 [==============================] - 0s 3ms/step - loss: 0.5349 - accuracy: 0.8032 - val_loss: 0.2502 - val_accuracy: 0.9429\n",
            "Epoch 111/1000\n",
            "27/38 [====================>.........] - ETA: 0s - loss: 0.5373 - accuracy: 0.8035\n",
            "Epoch 111: saving model to model/keypoint_classifier\\keypoint_classifier.hdf5\n",
            "38/38 [==============================] - 0s 3ms/step - loss: 0.5346 - accuracy: 0.8067 - val_loss: 0.2512 - val_accuracy: 0.9429\n",
            "Epoch 112/1000\n",
            "23/38 [=================>............] - ETA: 0s - loss: 0.5345 - accuracy: 0.8094\n",
            "Epoch 112: saving model to model/keypoint_classifier\\keypoint_classifier.hdf5\n",
            "38/38 [==============================] - 0s 4ms/step - loss: 0.5438 - accuracy: 0.8067 - val_loss: 0.2592 - val_accuracy: 0.9385\n",
            "Epoch 113/1000\n",
            "21/38 [===============>..............] - ETA: 0s - loss: 0.5182 - accuracy: 0.8077\n",
            "Epoch 113: saving model to model/keypoint_classifier\\keypoint_classifier.hdf5\n",
            "38/38 [==============================] - 0s 4ms/step - loss: 0.5212 - accuracy: 0.8084 - val_loss: 0.2552 - val_accuracy: 0.9417\n",
            "Epoch 114/1000\n",
            "23/38 [=================>............] - ETA: 0s - loss: 0.5405 - accuracy: 0.7962\n",
            "Epoch 114: saving model to model/keypoint_classifier\\keypoint_classifier.hdf5\n",
            "38/38 [==============================] - 0s 4ms/step - loss: 0.5362 - accuracy: 0.8036 - val_loss: 0.2611 - val_accuracy: 0.9392\n",
            "Epoch 115/1000\n",
            "24/38 [=================>............] - ETA: 0s - loss: 0.5198 - accuracy: 0.8115\n",
            "Epoch 115: saving model to model/keypoint_classifier\\keypoint_classifier.hdf5\n",
            "38/38 [==============================] - 0s 4ms/step - loss: 0.5282 - accuracy: 0.8111 - val_loss: 0.2568 - val_accuracy: 0.9392\n",
            "Epoch 116/1000\n",
            "24/38 [=================>............] - ETA: 0s - loss: 0.5189 - accuracy: 0.8206\n",
            "Epoch 116: saving model to model/keypoint_classifier\\keypoint_classifier.hdf5\n",
            "38/38 [==============================] - 0s 4ms/step - loss: 0.5277 - accuracy: 0.8177 - val_loss: 0.2590 - val_accuracy: 0.9373\n",
            "Epoch 117/1000\n",
            "23/38 [=================>............] - ETA: 0s - loss: 0.5367 - accuracy: 0.8030\n",
            "Epoch 117: saving model to model/keypoint_classifier\\keypoint_classifier.hdf5\n",
            "38/38 [==============================] - 0s 4ms/step - loss: 0.5303 - accuracy: 0.8049 - val_loss: 0.2498 - val_accuracy: 0.9441\n",
            "Epoch 118/1000\n",
            "23/38 [=================>............] - ETA: 0s - loss: 0.5269 - accuracy: 0.8186\n",
            "Epoch 118: saving model to model/keypoint_classifier\\keypoint_classifier.hdf5\n",
            "38/38 [==============================] - 0s 4ms/step - loss: 0.5322 - accuracy: 0.8109 - val_loss: 0.2533 - val_accuracy: 0.9441\n",
            "Epoch 119/1000\n",
            "26/38 [===================>..........] - ETA: 0s - loss: 0.5332 - accuracy: 0.8104\n",
            "Epoch 119: saving model to model/keypoint_classifier\\keypoint_classifier.hdf5\n",
            "38/38 [==============================] - 0s 4ms/step - loss: 0.5336 - accuracy: 0.8074 - val_loss: 0.2575 - val_accuracy: 0.9398\n",
            "Epoch 120/1000\n",
            "27/38 [====================>.........] - ETA: 0s - loss: 0.5438 - accuracy: 0.8038\n",
            "Epoch 120: saving model to model/keypoint_classifier\\keypoint_classifier.hdf5\n",
            "38/38 [==============================] - 0s 3ms/step - loss: 0.5293 - accuracy: 0.8107 - val_loss: 0.2456 - val_accuracy: 0.9466\n",
            "Epoch 121/1000\n",
            "26/38 [===================>..........] - ETA: 0s - loss: 0.5216 - accuracy: 0.8170\n",
            "Epoch 121: saving model to model/keypoint_classifier\\keypoint_classifier.hdf5\n",
            "38/38 [==============================] - 0s 3ms/step - loss: 0.5244 - accuracy: 0.8154 - val_loss: 0.2534 - val_accuracy: 0.9441\n",
            "Epoch 122/1000\n",
            "26/38 [===================>..........] - ETA: 0s - loss: 0.5294 - accuracy: 0.8122\n",
            "Epoch 122: saving model to model/keypoint_classifier\\keypoint_classifier.hdf5\n",
            "38/38 [==============================] - 0s 4ms/step - loss: 0.5277 - accuracy: 0.8113 - val_loss: 0.2579 - val_accuracy: 0.9373\n",
            "Epoch 123/1000\n",
            "24/38 [=================>............] - ETA: 0s - loss: 0.5222 - accuracy: 0.8112\n",
            "Epoch 123: saving model to model/keypoint_classifier\\keypoint_classifier.hdf5\n",
            "38/38 [==============================] - 0s 4ms/step - loss: 0.5258 - accuracy: 0.8090 - val_loss: 0.2488 - val_accuracy: 0.9423\n",
            "Epoch 124/1000\n",
            "25/38 [==================>...........] - ETA: 0s - loss: 0.5236 - accuracy: 0.8109\n",
            "Epoch 124: saving model to model/keypoint_classifier\\keypoint_classifier.hdf5\n",
            "38/38 [==============================] - 0s 4ms/step - loss: 0.5310 - accuracy: 0.8070 - val_loss: 0.2384 - val_accuracy: 0.9466\n",
            "Epoch 125/1000\n",
            "20/38 [==============>...............] - ETA: 0s - loss: 0.5140 - accuracy: 0.8121\n",
            "Epoch 125: saving model to model/keypoint_classifier\\keypoint_classifier.hdf5\n",
            "38/38 [==============================] - 0s 4ms/step - loss: 0.5238 - accuracy: 0.8113 - val_loss: 0.2539 - val_accuracy: 0.9410\n",
            "Epoch 126/1000\n",
            "26/38 [===================>..........] - ETA: 0s - loss: 0.5261 - accuracy: 0.8104\n",
            "Epoch 126: saving model to model/keypoint_classifier\\keypoint_classifier.hdf5\n",
            "38/38 [==============================] - 0s 4ms/step - loss: 0.5201 - accuracy: 0.8130 - val_loss: 0.2562 - val_accuracy: 0.9336\n",
            "Epoch 127/1000\n",
            "27/38 [====================>.........] - ETA: 0s - loss: 0.5294 - accuracy: 0.8099\n",
            "Epoch 127: saving model to model/keypoint_classifier\\keypoint_classifier.hdf5\n",
            "38/38 [==============================] - 0s 4ms/step - loss: 0.5200 - accuracy: 0.8107 - val_loss: 0.2491 - val_accuracy: 0.9423\n",
            "Epoch 128/1000\n",
            "24/38 [=================>............] - ETA: 0s - loss: 0.5225 - accuracy: 0.8122\n",
            "Epoch 128: saving model to model/keypoint_classifier\\keypoint_classifier.hdf5\n",
            "38/38 [==============================] - 0s 4ms/step - loss: 0.5184 - accuracy: 0.8175 - val_loss: 0.2632 - val_accuracy: 0.9342\n",
            "Epoch 129/1000\n",
            "23/38 [=================>............] - ETA: 0s - loss: 0.5299 - accuracy: 0.8057\n",
            "Epoch 129: saving model to model/keypoint_classifier\\keypoint_classifier.hdf5\n",
            "38/38 [==============================] - 0s 4ms/step - loss: 0.5223 - accuracy: 0.8105 - val_loss: 0.2491 - val_accuracy: 0.9448\n",
            "Epoch 130/1000\n",
            "25/38 [==================>...........] - ETA: 0s - loss: 0.5213 - accuracy: 0.8156\n",
            "Epoch 130: saving model to model/keypoint_classifier\\keypoint_classifier.hdf5\n",
            "38/38 [==============================] - 0s 4ms/step - loss: 0.5192 - accuracy: 0.8175 - val_loss: 0.2520 - val_accuracy: 0.9385\n",
            "Epoch 131/1000\n",
            "27/38 [====================>.........] - ETA: 0s - loss: 0.5031 - accuracy: 0.8218\n",
            "Epoch 131: saving model to model/keypoint_classifier\\keypoint_classifier.hdf5\n",
            "38/38 [==============================] - 0s 4ms/step - loss: 0.5118 - accuracy: 0.8152 - val_loss: 0.2574 - val_accuracy: 0.9361\n",
            "Epoch 132/1000\n",
            "24/38 [=================>............] - ETA: 0s - loss: 0.5366 - accuracy: 0.8125\n",
            "Epoch 132: saving model to model/keypoint_classifier\\keypoint_classifier.hdf5\n",
            "38/38 [==============================] - 0s 5ms/step - loss: 0.5335 - accuracy: 0.8092 - val_loss: 0.2553 - val_accuracy: 0.9398\n",
            "Epoch 133/1000\n",
            "20/38 [==============>...............] - ETA: 0s - loss: 0.5052 - accuracy: 0.8191\n",
            "Epoch 133: saving model to model/keypoint_classifier\\keypoint_classifier.hdf5\n",
            "38/38 [==============================] - 0s 4ms/step - loss: 0.5271 - accuracy: 0.8136 - val_loss: 0.2556 - val_accuracy: 0.9392\n",
            "Epoch 134/1000\n",
            "25/38 [==================>...........] - ETA: 0s - loss: 0.5123 - accuracy: 0.8125\n",
            "Epoch 134: saving model to model/keypoint_classifier\\keypoint_classifier.hdf5\n",
            "38/38 [==============================] - 0s 4ms/step - loss: 0.5137 - accuracy: 0.8130 - val_loss: 0.2581 - val_accuracy: 0.9379\n",
            "Epoch 135/1000\n",
            "27/38 [====================>.........] - ETA: 0s - loss: 0.5308 - accuracy: 0.8154\n",
            "Epoch 135: saving model to model/keypoint_classifier\\keypoint_classifier.hdf5\n",
            "38/38 [==============================] - 0s 4ms/step - loss: 0.5358 - accuracy: 0.8098 - val_loss: 0.2449 - val_accuracy: 0.9398\n",
            "Epoch 136/1000\n",
            "27/38 [====================>.........] - ETA: 0s - loss: 0.5332 - accuracy: 0.8079\n",
            "Epoch 136: saving model to model/keypoint_classifier\\keypoint_classifier.hdf5\n",
            "38/38 [==============================] - 0s 4ms/step - loss: 0.5264 - accuracy: 0.8096 - val_loss: 0.2493 - val_accuracy: 0.9404\n",
            "Epoch 137/1000\n",
            "26/38 [===================>..........] - ETA: 0s - loss: 0.5241 - accuracy: 0.8089\n",
            "Epoch 137: saving model to model/keypoint_classifier\\keypoint_classifier.hdf5\n",
            "38/38 [==============================] - 0s 4ms/step - loss: 0.5314 - accuracy: 0.8076 - val_loss: 0.2470 - val_accuracy: 0.9404\n",
            "Epoch 138/1000\n",
            "23/38 [=================>............] - ETA: 0s - loss: 0.5182 - accuracy: 0.8132\n",
            "Epoch 138: saving model to model/keypoint_classifier\\keypoint_classifier.hdf5\n",
            "38/38 [==============================] - 0s 4ms/step - loss: 0.5255 - accuracy: 0.8140 - val_loss: 0.2551 - val_accuracy: 0.9417\n",
            "Epoch 139/1000\n",
            "26/38 [===================>..........] - ETA: 0s - loss: 0.5332 - accuracy: 0.8122\n",
            "Epoch 139: saving model to model/keypoint_classifier\\keypoint_classifier.hdf5\n",
            "38/38 [==============================] - 0s 4ms/step - loss: 0.5251 - accuracy: 0.8156 - val_loss: 0.2554 - val_accuracy: 0.9398\n",
            "Epoch 140/1000\n",
            "28/38 [=====================>........] - ETA: 0s - loss: 0.5207 - accuracy: 0.8117\n",
            "Epoch 140: saving model to model/keypoint_classifier\\keypoint_classifier.hdf5\n",
            "38/38 [==============================] - 0s 4ms/step - loss: 0.5171 - accuracy: 0.8125 - val_loss: 0.2535 - val_accuracy: 0.9373\n",
            "Epoch 141/1000\n",
            "23/38 [=================>............] - ETA: 0s - loss: 0.5306 - accuracy: 0.8077\n",
            "Epoch 141: saving model to model/keypoint_classifier\\keypoint_classifier.hdf5\n",
            "38/38 [==============================] - 0s 4ms/step - loss: 0.5232 - accuracy: 0.8115 - val_loss: 0.2552 - val_accuracy: 0.9385\n",
            "Epoch 142/1000\n",
            "23/38 [=================>............] - ETA: 0s - loss: 0.5235 - accuracy: 0.8077\n",
            "Epoch 142: saving model to model/keypoint_classifier\\keypoint_classifier.hdf5\n",
            "38/38 [==============================] - 0s 4ms/step - loss: 0.5283 - accuracy: 0.8084 - val_loss: 0.2462 - val_accuracy: 0.9404\n",
            "Epoch 143/1000\n",
            "25/38 [==================>...........] - ETA: 0s - loss: 0.5184 - accuracy: 0.8125\n",
            "Epoch 143: saving model to model/keypoint_classifier\\keypoint_classifier.hdf5\n",
            "38/38 [==============================] - 0s 4ms/step - loss: 0.5281 - accuracy: 0.8076 - val_loss: 0.2629 - val_accuracy: 0.9379\n",
            "Epoch 144/1000\n",
            "26/38 [===================>..........] - ETA: 0s - loss: 0.5393 - accuracy: 0.8110\n",
            "Epoch 144: saving model to model/keypoint_classifier\\keypoint_classifier.hdf5\n",
            "38/38 [==============================] - 0s 4ms/step - loss: 0.5346 - accuracy: 0.8084 - val_loss: 0.2605 - val_accuracy: 0.9373\n",
            "Epoch 144: early stopping\n"
          ]
        },
        {
          "data": {
            "text/plain": [
              "<keras.callbacks.History at 0x17811e69fa0>"
            ]
          },
          "execution_count": 11,
          "metadata": {},
          "output_type": "execute_result"
        }
      ],
      "source": [
        "model.fit(\n",
        "    X_train,\n",
        "    y_train,\n",
        "    epochs=1000,\n",
        "    batch_size=128,\n",
        "    validation_data=(X_test, y_test),\n",
        "    callbacks=[cp_callback, es_callback]\n",
        ")"
      ]
    },
    {
      "cell_type": "code",
      "execution_count": 12,
      "metadata": {
        "colab": {
          "base_uri": "https://localhost:8080/"
        },
        "id": "pxvb2Y299hE3",
        "outputId": "59eb3185-2e37-4b9e-bc9d-ab1b8ac29b7f"
      },
      "outputs": [
        {
          "name": "stdout",
          "output_type": "stream",
          "text": [
            "13/13 [==============================] - 0s 2ms/step - loss: 0.2605 - accuracy: 0.9373\n"
          ]
        }
      ],
      "source": [
        "# Model evaluation\n",
        "val_loss, val_acc = model.evaluate(X_test, y_test, batch_size=128)"
      ]
    },
    {
      "cell_type": "code",
      "execution_count": 13,
      "metadata": {
        "id": "RBkmDeUW9hE4"
      },
      "outputs": [],
      "source": [
        "# Loading the saved model\n",
        "model = tf.keras.models.load_model(model_save_path)"
      ]
    },
    {
      "cell_type": "code",
      "execution_count": 14,
      "metadata": {
        "colab": {
          "base_uri": "https://localhost:8080/"
        },
        "id": "tFz9Tb0I9hE4",
        "outputId": "1c3b3528-54ae-4ee2-ab04-77429211cbef"
      },
      "outputs": [
        {
          "name": "stdout",
          "output_type": "stream",
          "text": [
            "1/1 [==============================] - 0s 86ms/step\n",
            "[1.5870608e-01 3.4431614e-02 2.6422649e-04 8.0659807e-01 6.7607427e-11\n",
            " 8.1522543e-16]\n",
            "3\n"
          ]
        }
      ],
      "source": [
        "# Inference test\n",
        "predict_result = model.predict(np.array([X_test[0]]))\n",
        "print(np.squeeze(predict_result))\n",
        "print(np.argmax(np.squeeze(predict_result)))"
      ]
    },
    {
      "cell_type": "markdown",
      "metadata": {
        "id": "S3U4yNWx9hE4"
      },
      "source": [
        "# Confusion matrix"
      ]
    },
    {
      "cell_type": "code",
      "execution_count": 15,
      "metadata": {
        "colab": {
          "base_uri": "https://localhost:8080/",
          "height": 582
        },
        "id": "AP1V6SCk9hE5",
        "outputId": "08e41a80-7a4a-4619-8125-ecc371368d19"
      },
      "outputs": [
        {
          "name": "stdout",
          "output_type": "stream",
          "text": [
            "51/51 [==============================] - 0s 1ms/step\n"
          ]
        },
        {
          "data": {
            "image/png": "[encoded data removed]",
            "text/plain": [
              "<Figure size 504x432 with 2 Axes>"
            ]
          },
          "metadata": {
            "needs_background": "light"
          },
          "output_type": "display_data"
        },
        {
          "name": "stdout",
          "output_type": "stream",
          "text": [
            "Classification Report\n",
            "              precision    recall  f1-score   support\n",
            "\n",
            "           0       0.96      0.98      0.97       415\n",
            "           1       0.99      0.88      0.93       384\n",
            "           2       0.90      0.87      0.89       339\n",
            "           3       0.90      1.00      0.95        74\n",
            "           4       0.90      1.00      0.95       246\n",
            "           5       0.92      0.99      0.95       153\n",
            "\n",
            "    accuracy                           0.94      1611\n",
            "   macro avg       0.93      0.95      0.94      1611\n",
            "weighted avg       0.94      0.94      0.94      1611\n",
            "\n"
          ]
        }
      ],
      "source": [
        "import pandas as pd\n",
        "import seaborn as sns\n",
        "import matplotlib.pyplot as plt\n",
        "from sklearn.metrics import confusion_matrix, classification_report\n",
        "\n",
        "def print_confusion_matrix(y_true, y_pred, report=True):\n",
        "    labels = sorted(list(set(y_true)))\n",
        "    cmx_data = confusion_matrix(y_true, y_pred, labels=labels)\n",
        "    \n",
        "    df_cmx = pd.DataFrame(cmx_data, index=labels, columns=labels)\n",
        " \n",
        "    fig, ax = plt.subplots(figsize=(7, 6))\n",
        "    sns.heatmap(df_cmx, annot=True, fmt='g' ,square=False)\n",
        "    ax.set_ylim(len(set(y_true)), 0)\n",
        "    plt.show()\n",
        "    \n",
        "    if report:\n",
        "        print('Classification Report')\n",
        "        print(classification_report(y_test, y_pred))\n",
        "\n",
        "Y_pred = model.predict(X_test)\n",
        "y_pred = np.argmax(Y_pred, axis=1)\n",
        "\n",
        "print_confusion_matrix(y_test, y_pred)"
      ]
    },
    {
      "cell_type": "markdown",
      "metadata": {
        "id": "FNP6aqzc9hE5"
      },
      "source": [
        "# Convert to model for Tensorflow-Lite"
      ]
    },
    {
      "cell_type": "code",
      "execution_count": 16,
      "metadata": {
        "id": "ODjnYyld9hE6"
      },
      "outputs": [],
      "source": [
        "# Save as a model dedicated to inference\n",
        "model.save(model_save_path, include_optimizer=False)"
      ]
    },
    {
      "cell_type": "code",
      "execution_count": 17,
      "metadata": {
        "colab": {
          "base_uri": "https://localhost:8080/"
        },
        "id": "zRfuK8Y59hE6",
        "outputId": "a4ca585c-b5d5-4244-8291-8674063209bb"
      },
      "outputs": [
        {
          "name": "stderr",
          "output_type": "stream",
          "text": [
            "WARNING:absl:Found untraced functions such as _update_step_xla while saving (showing 1 of 1). These functions will not be directly callable after loading.\n"
          ]
        },
        {
          "name": "stdout",
          "output_type": "stream",
          "text": [
            "INFO:tensorflow:Assets written to: C:\\Users\\saa\\AppData\\Local\\Temp\\tmpjbdms2a_\\assets\n"
          ]
        },
        {
          "name": "stderr",
          "output_type": "stream",
          "text": [
            "INFO:tensorflow:Assets written to: C:\\Users\\saa\\AppData\\Local\\Temp\\tmpjbdms2a_\\assets\n"
          ]
        },
        {
          "data": {
            "text/plain": [
              "6632"
            ]
          },
          "execution_count": 17,
          "metadata": {},
          "output_type": "execute_result"
        }
      ],
      "source": [
        "# Transform model (quantization)\n",
        "\n",
        "converter = tf.lite.TFLiteConverter.from_keras_model(model)\n",
        "converter.optimizations = [tf.lite.Optimize.DEFAULT]\n",
        "tflite_quantized_model = converter.convert()\n",
        "\n",
        "open(tflite_save_path, 'wb').write(tflite_quantized_model)"
      ]
    },
    {
      "cell_type": "markdown",
      "metadata": {
        "id": "CHBPBXdx9hE6"
      },
      "source": [
        "# Inference test"
      ]
    },
    {
      "cell_type": "code",
      "execution_count": 18,
      "metadata": {
        "id": "mGAzLocO9hE7"
      },
      "outputs": [],
      "source": [
        "interpreter = tf.lite.Interpreter(model_path=tflite_save_path)\n",
        "interpreter.allocate_tensors()"
      ]
    },
    {
      "cell_type": "code",
      "execution_count": 19,
      "metadata": {
        "id": "oQuDK8YS9hE7"
      },
      "outputs": [],
      "source": [
        "# Get I / O tensor\n",
        "input_details = interpreter.get_input_details()\n",
        "output_details = interpreter.get_output_details()"
      ]
    },
    {
      "cell_type": "code",
      "execution_count": 20,
      "metadata": {
        "id": "2_ixAf_l9hE7"
      },
      "outputs": [],
      "source": [
        "interpreter.set_tensor(input_details[0]['index'], np.array([X_test[0]]))"
      ]
    },
    {
      "cell_type": "code",
      "execution_count": 21,
      "metadata": {
        "colab": {
          "base_uri": "https://localhost:8080/"
        },
        "id": "s4FoAnuc9hE7",
        "outputId": "91f18257-8d8b-4ef3-c558-e9b5f94fabbf",
        "scrolled": true
      },
      "outputs": [
        {
          "name": "stdout",
          "output_type": "stream",
          "text": [
            "Wall time: 0 ns\n"
          ]
        }
      ],
      "source": [
        "%%time\n",
        "# Inference implementation\n",
        "interpreter.invoke()\n",
        "tflite_results = interpreter.get_tensor(output_details[0]['index'])"
      ]
    },
    {
      "cell_type": "code",
      "execution_count": 22,
      "metadata": {
        "colab": {
          "base_uri": "https://localhost:8080/"
        },
        "id": "vONjp19J9hE8",
        "outputId": "77205e24-fd00-42c4-f7b6-e06e527c2cba"
      },
      "outputs": [
        {
          "name": "stdout",
          "output_type": "stream",
          "text": [
            "[1.5870608e-01 3.4431625e-02 2.6422675e-04 8.0659807e-01 6.7607427e-11\n",
            " 8.1522845e-16]\n",
            "3\n"
          ]
        }
      ],
      "source": [
        "print(np.squeeze(tflite_results))\n",
        "print(np.argmax(np.squeeze(tflite_results)))"
      ]
    }
  ],
  "metadata": {
    "accelerator": "GPU",
    "colab": {
      "collapsed_sections": [],
      "name": "keypoint_classification_EN.ipynb",
      "provenance": [],
      "toc_visible": true
    },
    "kernelspec": {
      "display_name": "Python 3",
      "language": "python",
      "name": "python3"
    },
    "language_info": {
      "codemirror_mode": {
        "name": "ipython",
        "version": 3
      },
      "file_extension": ".py",
      "mimetype": "text/x-python",
      "name": "python",
      "nbconvert_exporter": "python",
      "pygments_lexer": "ipython3",
      "version": "3.9.2"
    },
    "vscode": {
      "interpreter": {
        "hash": "05e33ef9c3ad72c8b4415567b341b05a1eff8c3bb405aaba58493c65f0d4ebf1"
      }
    }
  },
  "nbformat": 4,
  "nbformat_minor": 0
}
